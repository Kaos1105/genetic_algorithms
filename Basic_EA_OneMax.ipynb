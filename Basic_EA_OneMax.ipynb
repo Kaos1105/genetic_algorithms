{
 "cells": [
  {
   "cell_type": "code",
   "execution_count": 1,
   "id": "635381e9",
   "metadata": {},
   "outputs": [
    {
     "name": "stdout",
     "output_type": "stream",
     "text": [
      "Collecting matplotlib\n",
      "  Downloading matplotlib-3.10.6-cp311-cp311-manylinux2014_x86_64.manylinux_2_17_x86_64.whl.metadata (11 kB)\n",
      "Collecting numpy\n",
      "  Downloading numpy-2.3.2-cp311-cp311-manylinux_2_27_x86_64.manylinux_2_28_x86_64.whl.metadata (62 kB)\n",
      "Collecting tqdm\n",
      "  Using cached tqdm-4.67.1-py3-none-any.whl.metadata (57 kB)\n",
      "Collecting contourpy>=1.0.1 (from matplotlib)\n",
      "  Downloading contourpy-1.3.3-cp311-cp311-manylinux_2_27_x86_64.manylinux_2_28_x86_64.whl.metadata (5.5 kB)\n",
      "Collecting cycler>=0.10 (from matplotlib)\n",
      "  Using cached cycler-0.12.1-py3-none-any.whl.metadata (3.8 kB)\n",
      "Collecting fonttools>=4.22.0 (from matplotlib)\n",
      "  Downloading fonttools-4.59.2-cp311-cp311-manylinux2014_x86_64.manylinux_2_17_x86_64.whl.metadata (109 kB)\n",
      "Collecting kiwisolver>=1.3.1 (from matplotlib)\n",
      "  Downloading kiwisolver-1.4.9-cp311-cp311-manylinux2014_x86_64.manylinux_2_17_x86_64.whl.metadata (6.3 kB)\n",
      "Requirement already satisfied: packaging>=20.0 in ./.conda/lib/python3.11/site-packages (from matplotlib) (25.0)\n",
      "Collecting pillow>=8 (from matplotlib)\n",
      "  Downloading pillow-11.3.0-cp311-cp311-manylinux_2_27_x86_64.manylinux_2_28_x86_64.whl.metadata (9.0 kB)\n",
      "Collecting pyparsing>=2.3.1 (from matplotlib)\n",
      "  Downloading pyparsing-3.2.3-py3-none-any.whl.metadata (5.0 kB)\n",
      "Requirement already satisfied: python-dateutil>=2.7 in ./.conda/lib/python3.11/site-packages (from matplotlib) (2.9.0.post0)\n",
      "Requirement already satisfied: six>=1.5 in ./.conda/lib/python3.11/site-packages (from python-dateutil>=2.7->matplotlib) (1.17.0)\n",
      "Downloading matplotlib-3.10.6-cp311-cp311-manylinux2014_x86_64.manylinux_2_17_x86_64.whl (8.7 MB)\n",
      "\u001b[2K   \u001b[90m━━━━━━━━━━━━━━━━━━━━━━━━━━━━━━━━━━━━━━━━\u001b[0m \u001b[32m8.7/8.7 MB\u001b[0m \u001b[31m33.6 MB/s\u001b[0m  \u001b[33m0:00:00\u001b[0m eta \u001b[36m0:00:01\u001b[0m\n",
      "\u001b[?25hDownloading numpy-2.3.2-cp311-cp311-manylinux_2_27_x86_64.manylinux_2_28_x86_64.whl (16.9 MB)\n",
      "\u001b[2K   \u001b[90m━━━━━━━━━━━━━━━━━━━━━━━━━━━━━━━━━━━━━━━━\u001b[0m \u001b[32m16.9/16.9 MB\u001b[0m \u001b[31m33.6 MB/s\u001b[0m  \u001b[33m0:00:00\u001b[0mm0:00:01\u001b[0m00:01\u001b[0m\n",
      "\u001b[?25hUsing cached tqdm-4.67.1-py3-none-any.whl (78 kB)\n",
      "Downloading contourpy-1.3.3-cp311-cp311-manylinux_2_27_x86_64.manylinux_2_28_x86_64.whl (355 kB)\n",
      "Using cached cycler-0.12.1-py3-none-any.whl (8.3 kB)\n",
      "Downloading fonttools-4.59.2-cp311-cp311-manylinux2014_x86_64.manylinux_2_17_x86_64.whl (5.0 MB)\n",
      "\u001b[2K   \u001b[90m━━━━━━━━━━━━━━━━━━━━━━━━━━━━━━━━━━━━━━━━\u001b[0m \u001b[32m5.0/5.0 MB\u001b[0m \u001b[31m38.6 MB/s\u001b[0m  \u001b[33m0:00:00\u001b[0m\n",
      "\u001b[?25hDownloading kiwisolver-1.4.9-cp311-cp311-manylinux2014_x86_64.manylinux_2_17_x86_64.whl (1.4 MB)\n",
      "\u001b[2K   \u001b[90m━━━━━━━━━━━━━━━━━━━━━━━━━━━━━━━━━━━━━━━━\u001b[0m \u001b[32m1.4/1.4 MB\u001b[0m \u001b[31m33.5 MB/s\u001b[0m  \u001b[33m0:00:00\u001b[0m\n",
      "\u001b[?25hDownloading pillow-11.3.0-cp311-cp311-manylinux_2_27_x86_64.manylinux_2_28_x86_64.whl (6.6 MB)\n",
      "\u001b[2K   \u001b[90m━━━━━━━━━━━━━━━━━━━━━━━━━━━━━━━━━━━━━━━━\u001b[0m \u001b[32m6.6/6.6 MB\u001b[0m \u001b[31m40.8 MB/s\u001b[0m  \u001b[33m0:00:00\u001b[0m\n",
      "\u001b[?25hDownloading pyparsing-3.2.3-py3-none-any.whl (111 kB)\n",
      "Installing collected packages: tqdm, pyparsing, pillow, numpy, kiwisolver, fonttools, cycler, contourpy, matplotlib\n",
      "\u001b[2K   \u001b[90m━━━━━━━━━━━━━━━━━━━━━━━━━━━━━━━━━━━━━━━━\u001b[0m \u001b[32m9/9\u001b[0m [matplotlib]9\u001b[0m [matplotlib]\n",
      "\u001b[1A\u001b[2KSuccessfully installed contourpy-1.3.3 cycler-0.12.1 fonttools-4.59.2 kiwisolver-1.4.9 matplotlib-3.10.6 numpy-2.3.2 pillow-11.3.0 pyparsing-3.2.3 tqdm-4.67.1\n",
      "Note: you may need to restart the kernel to use updated packages.\n"
     ]
    }
   ],
   "source": [
    "%pip install matplotlib numpy tqdm"
   ]
  },
  {
   "cell_type": "code",
   "execution_count": 2,
   "id": "889450db",
   "metadata": {},
   "outputs": [],
   "source": [
    "import warnings\n",
    "warnings.filterwarnings('ignore')\n",
    "%matplotlib inline\n",
    "import matplotlib.pyplot as plt\n",
    "import math\n",
    "import numpy as np\n",
    "from tqdm import tqdm\n",
    "np.random.seed(1234)"
   ]
  },
  {
   "cell_type": "markdown",
   "id": "4ccf243b",
   "metadata": {},
   "source": [
    "# Individuals"
   ]
  },
  {
   "cell_type": "code",
   "execution_count": 16,
   "id": "a262667f",
   "metadata": {},
   "outputs": [],
   "source": [
    "class Individual:\n",
    "\n",
    "    def __init__(self, n: int):\n",
    "        self.genes = np.random.randint(0, 2, (n,))\n",
    "        self.fitness = -np.inf\n",
    "\n",
    "    def __str__(self):\n",
    "        return f'(Ind: {self.genes}, {self.fitness})'\n",
    "\n",
    "    def __repr__(self):\n",
    "        return str(self)"
   ]
  },
  {
   "cell_type": "markdown",
   "id": "2164380f",
   "metadata": {},
   "source": [
    "Define Individual with n = 20"
   ]
  },
  {
   "cell_type": "code",
   "execution_count": 17,
   "id": "b3962a38",
   "metadata": {},
   "outputs": [],
   "source": [
    "ind = Individual(20)"
   ]
  },
  {
   "cell_type": "markdown",
   "id": "3cc00ce5",
   "metadata": {},
   "source": [
    "Define Evaluate and Mutate Functions"
   ]
  },
  {
   "cell_type": "code",
   "execution_count": 19,
   "id": "8f4d2790",
   "metadata": {},
   "outputs": [],
   "source": [
    "#  Define One Max and Leading Ones functions\n",
    "def onemax(i: Individual):\n",
    "    return np.sum(i.genes)\n",
    "\n",
    "def leading_ones(ind: Individual):\n",
    "    f = 0\n",
    "    for i in range(len(ind.genes)):\n",
    "        if not ind.genes[i]:\n",
    "            f = i\n",
    "            break\n",
    "        if i == len(ind.genes) - 1:\n",
    "            f = len(ind.genes)\n",
    "    return f\n",
    "\n",
    "def evaluate(ind: Individual, objective):\n",
    "    ind.fitness = objective(ind)\n",
    "\n",
    "def mutate(ind: Individual, mutation_rate=1.0/len(ind.genes)):\n",
    "    new_genes = np.copy(ind.genes)\n",
    "    for i in range(len(new_genes)):\n",
    "        if np.random.rand() < mutation_rate:\n",
    "            new_genes[i] = not ind.genes[i]\n",
    "    child = Individual(len(ind.genes))\n",
    "    child.genes = new_genes\n",
    "    return child"
   ]
  },
  {
   "cell_type": "markdown",
   "id": "d65f20b1",
   "metadata": {},
   "source": [
    "Define (1+1)-EA and (1+λ)-EA "
   ]
  },
  {
   "cell_type": "code",
   "execution_count": 23,
   "id": "91c8fd71",
   "metadata": {},
   "outputs": [],
   "source": [
    "def one_plus_one(ind_length: int, num_generations: int, objective):\n",
    "    fits = np.zeros(num_generations)\n",
    "    parent = Individual(ind_length)\n",
    "    evaluate(parent, objective)\n",
    "\n",
    "    for i in (range(len(fits))):\n",
    "        child = mutate(parent)\n",
    "        evaluate(child, objective)\n",
    "\n",
    "        if child.fitness >= parent.fitness:\n",
    "            parent = child\n",
    "\n",
    "        fits[i] = parent.fitness\n",
    "    return fits\n",
    "\n",
    "def one_plus_lambda(ind_length: int, num_generations: int, objective, 𝜆: int):\n",
    "    fits = np.zeros(num_generations)\n",
    "    parent = Individual(ind_length)\n",
    "    evaluate(parent, objective)\n",
    "\n",
    "    for i in (range(len(fits))):\n",
    "        population = [parent,]\n",
    "        best = 0\n",
    "        for j in range(1, 𝜆):\n",
    "            population.append(mutate(parent))\n",
    "            evaluate(population[j], objective)\n",
    "            if population[j].fitness > population[best].fitness:\n",
    "                best = j\n",
    "        if population[best].fitness >= parent.fitness:\n",
    "            parent = population[best]\n",
    "        fits[i] = parent.fitness\n",
    "    return fits"
   ]
  },
  {
   "cell_type": "markdown",
   "id": "833f7e3b",
   "metadata": {},
   "source": [
    "Running trials 10 times for one_plus_one and one_plus_lamda"
   ]
  },
  {
   "cell_type": "code",
   "execution_count": 136,
   "id": "7d66fe1c",
   "metadata": {},
   "outputs": [
    {
     "name": "stdout",
     "output_type": "stream",
     "text": [
      "Expected runtime (theory): 163\n",
      "Min number of generations: 81\n",
      "Max number of generations: 815\n"
     ]
    }
   ],
   "source": [
    "n = 20\n",
    "expected_generations = int(np.round(np.e * n * np.log(n)))  # e * n log n\n",
    "min_num_generations = expected_generations // 2             # lower bound\n",
    "max_num_generations = expected_generations * 5             # generous upper bound\n",
    "\n",
    "print(f'Expected runtime (theory): {expected_generations}')\n",
    "print(f'Min number of generations: {min_num_generations}')\n",
    "print(f'Max number of generations: {max_num_generations}')"
   ]
  },
  {
   "cell_type": "code",
   "execution_count": 151,
   "id": "47124347",
   "metadata": {},
   "outputs": [
    {
     "name": "stdout",
     "output_type": "stream",
     "text": [
      "λ = 35\n",
      "Generation range: [100, 200, 300, 400, 500, 600, 700, 800]\n"
     ]
    }
   ],
   "source": [
    "n_trials = 10\n",
    "lamda = int(round(np.log(n)*np.log(np.log(n))/np.log(np.log(np.log(n)))))\n",
    "print(f'λ = {lamda}')\n",
    "gen_range = range(100, 801, 100)  # 100, 200, ..., 800\n",
    "print(f'Generation range: {list(gen_range)}')"
   ]
  },
  {
   "cell_type": "markdown",
   "id": "c008aff5",
   "metadata": {},
   "source": [
    "Kết quả thực nghiệm với n=20\n",
    "\n",
    "Cả hai bài toán OneMax và LeadingOnes đều có nghiệm tối ưu là chuỗi 20 bit 1. Chúng ta chạy \n",
    "(1+1) và (1+1)-EA (với λ được chọn theo công thức lý thuyết) trong nhiều số thế hệ \n",
    "n_gens\n",
    "∈\n",
    "{\n",
    "100, 200, 300,..,700, 800}, mỗi cấu hình lặp lại 10 lần.\n",
    "\n",
    "Tỉ lệ thành công (số lần đạt nghiệm tối ưu / 10 lần chạy)"
   ]
  },
  {
   "cell_type": "markdown",
   "id": "fcbe641c",
   "metadata": {},
   "source": [
    "# 3. Find the number of generations"
   ]
  },
  {
   "cell_type": "code",
   "execution_count": 165,
   "id": "04a73248",
   "metadata": {},
   "outputs": [
    {
     "name": "stdout",
     "output_type": "stream",
     "text": [
      "\n",
      "=== Success counts (out of 10) ===\n",
      "Generations 100: (1+1)-EA 2/10, (1+λ)-EA 0/10\n",
      "Generations 200: (1+1)-EA 9/10, (1+λ)-EA 0/10\n",
      "Generations 300: (1+1)-EA 10/10, (1+λ)-EA 5/10\n",
      "Generations 400: (1+1)-EA 10/10, (1+λ)-EA 10/10\n",
      "Generations 500: (1+1)-EA 10/10, (1+λ)-EA 10/10\n",
      "Generations 600: (1+1)-EA 10/10, (1+λ)-EA 10/10\n",
      "Generations 700: (1+1)-EA 10/10, (1+λ)-EA 10/10\n",
      "Generations 800: (1+1)-EA 10/10, (1+λ)-EA 10/10\n",
      "\n",
      "=== Stable generation counts (≥7/10 success) for onemax ===\n",
      "(1+1)-EA: 200\n",
      "(1+λ)-EA: 400\n",
      "\n",
      "=== Success counts (out of 10) ===\n",
      "Generations 100: (1+1)-EA 0/10, (1+λ)-EA 0/10\n",
      "Generations 200: (1+1)-EA 3/10, (1+λ)-EA 0/10\n",
      "Generations 300: (1+1)-EA 6/10, (1+λ)-EA 1/10\n",
      "Generations 400: (1+1)-EA 6/10, (1+λ)-EA 2/10\n",
      "Generations 500: (1+1)-EA 9/10, (1+λ)-EA 5/10\n",
      "Generations 600: (1+1)-EA 9/10, (1+λ)-EA 7/10\n",
      "Generations 700: (1+1)-EA 10/10, (1+λ)-EA 10/10\n",
      "Generations 800: (1+1)-EA 10/10, (1+λ)-EA 9/10\n",
      "\n",
      "=== Stable generation counts (≥7/10 success) for leading_ones ===\n",
      "(1+1)-EA: 500\n",
      "(1+λ)-EA: 600\n"
     ]
    }
   ],
   "source": [
    "def find_stable_gen(objective):\n",
    "   # track success\n",
    "    success_1 = {}\n",
    "    success_lam = {}\n",
    "    #for plotting\n",
    "    fits_1 = {}     # dict: key = n_gens, value = (n_gens, n_trials) array\n",
    "    fits_lam = {}   # dict: key = n_gens, value = (n_gens//lamda, n_trials) array\n",
    "\n",
    "    for n_gens in gen_range:\n",
    "        count_1 = 0\n",
    "        count_lam = 0\n",
    "        fits_1[n_gens] = np.zeros((n_gens, n_trials))\n",
    "        fits_lam[n_gens] = np.zeros((n_gens // lamda, n_trials))\n",
    "\n",
    "        for i in range(n_trials):\n",
    "            # run (1+1)-EA\n",
    "            fits1 = one_plus_one(n, n_gens, objective)\n",
    "            fits_1[n_gens][:, i] = fits1                # ✅ store trajectory\n",
    "            if np.max(fits1) == n:   # optimum found\n",
    "                count_1 += 1\n",
    "\n",
    "            # run (1+λ)-EA\n",
    "            fitslam = one_plus_lambda(n, n_gens // lamda, objective, lamda)\n",
    "            fits_lam[n_gens][:, i] = fitslam            # ✅ store trajectory\n",
    "            if np.max(fitslam) == n: # optimum found\n",
    "                count_lam += 1\n",
    "\n",
    "        success_1[n_gens] = count_1\n",
    "        success_lam[n_gens] = count_lam\n",
    "\n",
    "    # print results\n",
    "    print(\"\\n=== Success counts (out of 10) ===\")\n",
    "    for n_gens in gen_range:\n",
    "        print(f\"Generations {n_gens}: (1+1)-EA {success_1[n_gens]}/10, (1+λ)-EA {success_lam[n_gens]}/10\")\n",
    "\n",
    "    # find stable cutoff (≥7/10)\n",
    "    def find_stable(success_dict):\n",
    "        for gens, count in success_dict.items():\n",
    "            if count >= 7:\n",
    "                return gens\n",
    "        return None\n",
    "\n",
    "    stable_1 = find_stable(success_1)\n",
    "    stable_lam = find_stable(success_lam)\n",
    "\n",
    "    print(f\"\\n=== Stable generation counts (≥7/10 success) for {objective.__name__} ===\")\n",
    "    print(f\"(1+1)-EA: {stable_1 if stable_1 else 'not reached in range'}\")\n",
    "    print(f\"(1+λ)-EA: {stable_lam if stable_lam else 'not reached in range'}\")\n",
    "\n",
    "find_stable_gen(onemax)\n",
    "find_stable_gen(leading_ones)"
   ]
  },
  {
   "cell_type": "markdown",
   "id": "38207631",
   "metadata": {},
   "source": [
    "Số thế hệ ổn định (≥ 7/10 lần chạy đạt nghiệm tối ưu)\n",
    "\n",
    "(\n",
    "1\n",
    "+\n",
    "1\n",
    ")\n",
    "(1+1)-EA: 200 thế hệ cho OneMax\n",
    "\n",
    "(\n",
    "1\n",
    "+\n",
    "𝜆\n",
    ")\n",
    "(1+λ)-EA: 400 thế hệ cho OneMax\n",
    "\n",
    "Số thế hệ ổn định (≥ 7/10 lần chạy đạt nghiệm tối ưu)\n",
    "\n",
    "(\n",
    "1\n",
    "+\n",
    "1\n",
    ")\n",
    "(1+1)-EA: 500 thế hệ cho LeadingOne\n",
    "\n",
    "(\n",
    "1\n",
    "+\n",
    "𝜆\n",
    ")\n",
    "(1+λ)-EA: 600 thế hệ cho LeadingOne"
   ]
  },
  {
   "cell_type": "markdown",
   "id": "29d8e37d",
   "metadata": {},
   "source": [
    "# 4. Draw convergence graph with X axis represents the number of evaluations"
   ]
  },
  {
   "cell_type": "code",
   "execution_count": 167,
   "id": "35e700b8",
   "metadata": {},
   "outputs": [],
   "source": [
    "def one_plus_one_eval(ind_length: int, num_generations: int, objective):\n",
    "    fits = np.zeros(num_generations)\n",
    "    evals = np.zeros(num_generations)  # track cumulative evaluations\n",
    "    \n",
    "    parent = Individual(ind_length)\n",
    "    evaluate(parent, objective)\n",
    "    eval_count = 1  # initial parent evaluated\n",
    "    \n",
    "    for i in range(len(fits)):\n",
    "        child = mutate(parent)\n",
    "        evaluate(child, objective)\n",
    "        eval_count += 1   # one evaluation per generation\n",
    "        \n",
    "        if child.fitness >= parent.fitness:\n",
    "            parent = child\n",
    "\n",
    "        fits[i] = parent.fitness\n",
    "        evals[i] = eval_count\n",
    "    \n",
    "    return fits, evals\n",
    "\n",
    "\n",
    "def one_plus_lambda_eval(ind_length: int, num_generations: int, objective, 𝜆: int):\n",
    "    fits = np.zeros(num_generations)\n",
    "    evals = np.zeros(num_generations)  # track cumulative evaluations\n",
    "    \n",
    "    parent = Individual(ind_length)\n",
    "    evaluate(parent, objective)\n",
    "    eval_count = 1  # initial parent evaluated\n",
    "\n",
    "    for i in range(len(fits)):\n",
    "        population = [parent,]\n",
    "        best = 0\n",
    "        # generate λ-1 offspring\n",
    "        for j in range(1, 𝜆):\n",
    "            population.append(mutate(parent))\n",
    "            evaluate(population[j], objective)\n",
    "            eval_count += 1  # one evaluation per offspring\n",
    "            if population[j].fitness > population[best].fitness:\n",
    "                best = j\n",
    "\n",
    "        # replacement\n",
    "        if population[best].fitness >= parent.fitness:\n",
    "            parent = population[best]\n",
    "\n",
    "        fits[i] = parent.fitness\n",
    "        evals[i] = eval_count\n",
    "    \n",
    "    return fits, evals"
   ]
  },
  {
   "cell_type": "code",
   "execution_count": null,
   "id": "ac238cc4",
   "metadata": {},
   "outputs": [],
   "source": [
    "def draw_convergence_graph(objective, n_gens_1, n_gens_λ,     lam = 35):\n",
    "    n = 20\n",
    "    n_trials = 10\n",
    "\n",
    "    # run multiple trials\n",
    "    fits_1_all, evals_1_all = [], []\n",
    "    fits_λ_all, evals_λ_all = [], []\n",
    "\n",
    "    # run multiple trials\n",
    "    for i in range(n_trials):\n",
    "        f1, e1 = one_plus_one_eval(n, n_gens_1, objective)\n",
    "        fλ, eλ = one_plus_lambda_eval(n, n_gens_λ, objective, lamda)\n",
    "\n",
    "        fits_1_all.append(f1)\n",
    "        evals_1_all.append(e1)\n",
    "        fits_λ_all.append(fλ)\n",
    "        evals_λ_all.append(eλ)\n",
    "\n",
    "    # convert to numpy\n",
    "    fits_1_all = np.array(fits_1_all)   # shape: (trials, generations)\n",
    "    evals_1_all = np.array(evals_1_all)\n",
    "\n",
    "    fits_λ_all = np.array(fits_λ_all)\n",
    "    evals_λ_all = np.array(evals_λ_all)\n",
    "\n",
    "    # compute mean ± std\n",
    "    μ_1 = np.mean(fits_1_all, axis=0)\n",
    "    σ_1 = np.std(fits_1_all, axis=0)\n",
    "    x_1 = np.mean(evals_1_all, axis=0)  # evaluations axis\n",
    "\n",
    "    μ_λ = np.mean(fits_λ_all, axis=0)\n",
    "    σ_λ = np.std(fits_λ_all, axis=0)\n",
    "    x_λ = np.mean(evals_λ_all, axis=0)\n",
    "    # plot\n",
    "    plt.figure(figsize=(8,5))\n",
    "    plt.plot(x_1, μ_1, label=\"(1+1)-EA\", color='b')\n",
    "    plt.fill_between(x_1, μ_1+σ_1, μ_1-σ_1, facecolor='b', alpha=0.1)\n",
    "\n",
    "    plt.plot(x_λ, μ_λ, label=\"(1+λ)-EA\", color='g')\n",
    "    plt.fill_between(x_λ, μ_λ+σ_λ, μ_λ-σ_λ, facecolor='g', alpha=0.1)\n",
    "\n",
    "    plt.xlabel(\"Evaluations\")\n",
    "    plt.ylabel(\"Fitness\")\n",
    "    plt.title(f\"OneMax on {n} Dimensions — Convergence over {n_trials} trails\")\n",
    "    plt.legend()\n",
    "    plt.show()\n",
    "\n",
    "    first_hit_1 = []\n",
    "    first_hit_λ = []\n",
    "\n",
    "    for trial in range(n_trials):\n",
    "        # (1+1)-EA\n",
    "        f1 = fits_1_all[trial]\n",
    "        e1 = evals_1_all[trial]\n",
    "\n",
    "        hit_idx_1 = np.argmax(f1 == n)  # first index where fitness == n\n",
    "        if f1[hit_idx_1] == n:\n",
    "            first_hit_1.append(e1[hit_idx_1])\n",
    "        else:\n",
    "            first_hit_1.append(None)  # did not converge\n",
    "\n",
    "        # (1+λ)-EA\n",
    "        fλ = fits_λ_all[trial]\n",
    "        eλ = evals_λ_all[trial]\n",
    "\n",
    "        hit_idx_λ = np.argmax(fλ == n)\n",
    "        if fλ[hit_idx_λ] == n:\n",
    "            first_hit_λ.append(eλ[hit_idx_λ])\n",
    "        else:\n",
    "            first_hit_λ.append(None)\n",
    "\n",
    "    # convert to numpy for stats\n",
    "    first_hit_1 = np.array([x for x in first_hit_1 if x is not None])\n",
    "    first_hit_λ = np.array([x for x in first_hit_λ if x is not None])\n",
    "\n",
    "    print(f\"=== (1+1)-EA for {objective.__name__} ===\")\n",
    "    print(\"Total evaluations per run:\", evals_1_all[0, -1])\n",
    "    print(\"First hitting times (evals):\", first_hit_1)\n",
    "\n",
    "    print(f\"\\n=== (1+λ)-EA for {objective.__name__} ===\")\n",
    "    print(\"Total evaluations per run:\", evals_λ_all[0, -1])\n",
    "    print(\"First hitting times (evals):\", first_hit_λ)"
   ]
  },
  {
   "cell_type": "code",
   "execution_count": 171,
   "id": "783c21c0",
   "metadata": {},
   "outputs": [
    {
     "data": {
      "image/png": "[encoded data removed]",
      "text/plain": [
       "<Figure size 800x500 with 1 Axes>"
      ]
     },
     "metadata": {},
     "output_type": "display_data"
    },
    {
     "name": "stdout",
     "output_type": "stream",
     "text": [
      "=== (1+1)-EA for onemax ===\n",
      "Total evaluations per run: 201.0\n",
      "First hitting times (evals): [104. 150.  64. 161. 103. 105.  84.  78.]\n",
      "\n",
      "=== (1+λ)-EA for onemax ===\n",
      "Total evaluations per run: 13601.0\n",
      "First hitting times (evals): [205. 443. 273. 239. 205. 205. 341. 341. 375. 239.]\n"
     ]
    },
    {
     "data": {
      "image/png": "[encoded data removed]",
      "text/plain": [
       "<Figure size 800x500 with 1 Axes>"
      ]
     },
     "metadata": {},
     "output_type": "display_data"
    },
    {
     "name": "stdout",
     "output_type": "stream",
     "text": [
      "=== (1+1)-EA for leading_ones ===\n",
      "Total evaluations per run: 501.0\n",
      "First hitting times (evals): [291. 379. 251. 331. 252. 393. 495. 202. 370.]\n",
      "\n",
      "=== (1+λ)-EA for leading_ones ===\n",
      "Total evaluations per run: 20401.0\n",
      "First hitting times (evals): [511. 511. 511. 273. 239. 647. 273. 817. 239. 477.]\n"
     ]
    }
   ],
   "source": [
    "draw_convergence_graph(onemax, 200, 400)\n",
    "draw_convergence_graph(leading_ones, 500, 600)"
   ]
  },
  {
   "cell_type": "markdown",
   "id": "87d426b8",
   "metadata": {},
   "source": [
    "# 6. Find minimal lamda"
   ]
  },
  {
   "cell_type": "code",
   "execution_count": 175,
   "id": "00fcc55c",
   "metadata": {},
   "outputs": [
    {
     "name": "stdout",
     "output_type": "stream",
     "text": [
      "λ = 2: 9/10 successes\n",
      "λ = 4: 10/10 successes\n",
      "λ = 6: 10/10 successes\n",
      "λ = 8: 10/10 successes\n",
      "λ = 10: 10/10 successes\n",
      "λ = 12: 10/10 successes\n",
      "λ = 14: 10/10 successes\n",
      "λ = 16: 10/10 successes\n",
      "λ = 18: 10/10 successes\n",
      "λ = 20: 10/10 successes\n",
      "λ = 22: 10/10 successes\n",
      "λ = 24: 10/10 successes\n",
      "λ = 26: 7/10 successes\n",
      "λ = 28: 10/10 successes\n",
      "λ = 30: 10/10 successes\n",
      "λ = 32: 10/10 successes\n",
      "λ = 34: 7/10 successes\n",
      "\n",
      "=== Minimal λ of (1+λ)-EA (≥7/10 success) for onemax ===\n",
      "onemax: 2\n",
      "λ = 2: 3/10 successes\n",
      "λ = 4: 7/10 successes\n",
      "λ = 6: 9/10 successes\n",
      "λ = 8: 10/10 successes\n",
      "λ = 10: 10/10 successes\n",
      "λ = 12: 10/10 successes\n",
      "λ = 14: 10/10 successes\n",
      "λ = 16: 10/10 successes\n",
      "λ = 18: 10/10 successes\n",
      "λ = 20: 8/10 successes\n",
      "λ = 22: 9/10 successes\n",
      "λ = 24: 9/10 successes\n",
      "λ = 26: 7/10 successes\n",
      "λ = 28: 9/10 successes\n",
      "λ = 30: 8/10 successes\n",
      "λ = 32: 6/10 successes\n",
      "λ = 34: 5/10 successes\n",
      "\n",
      "=== Minimal λ of (1+λ)-EA (≥7/10 success) for leading_ones ===\n",
      "leading_ones: 4\n"
     ]
    }
   ],
   "source": [
    "def find_minimal_lambda(objective, n_gens, lam_range, n_trials=10):\n",
    "    success_lam = {}\n",
    "\n",
    "    for lam in lam_range:\n",
    "        count_lam = 0\n",
    "\n",
    "        for i in range(n_trials):\n",
    "            fitslam = one_plus_lambda(n, n_gens // lam, objective, lam)\n",
    "            if np.max(fitslam) == n:  # optimum found\n",
    "                count_lam += 1\n",
    "\n",
    "        success_lam[lam] = count_lam\n",
    "        print(f\"λ = {lam}: {count_lam}/{n_trials} successes\")\n",
    "\n",
    "    # find minimal λ with ≥7 successes\n",
    "    stable_lam = None\n",
    "    for lam, count in success_lam.items():\n",
    "        if count >= 7:\n",
    "            stable_lam = lam\n",
    "            break\n",
    "\n",
    "    print(f\"\\n=== Minimal λ of (1+λ)-EA (≥7/10 success) for {objective.__name__} ===\")\n",
    "    print(f\"{objective.__name__}: {stable_lam if stable_lam else 'not found in range'}\")\n",
    "    return stable_lam, success_lam\n",
    "\n",
    "\n",
    "# Example usage\n",
    "lam_range = range(2, 36, 2)  # try odd λ from 1 to 50\n",
    "stable_lam, success_counts = find_minimal_lambda(onemax, n_gens=400, lam_range=lam_range, n_trials=10)\n",
    "stable_lam, success_counts = find_minimal_lambda(leading_ones, n_gens=600, lam_range=lam_range, n_trials=10)"
   ]
  },
  {
   "cell_type": "markdown",
   "id": "abc38071",
   "metadata": {},
   "source": [
    "# Observations on the Performance of (1+1)-EA and (1+λ)-EA  \n",
    "\n",
    "## OneMax\n",
    "- **(1+1)-EA**  \n",
    "  - Converges reliably when the number of generations is `n_gens = 200`.  \n",
    "  - Average number of evaluations: about **200**.  \n",
    "  - First hitting times (evaluations to reach the optimum) are relatively small, ranging from **64 to 161**.  \n",
    "  - Efficient and straightforward for solving OneMax.  \n",
    "\n",
    "- **(1+λ)-EA**  \n",
    "  - Converges reliably when the number of generations is `n_gens = 400`.  \n",
    "  - Total evaluations are much larger (around **13,601**) because λ offspring are evaluated each generation.  \n",
    "  - The actual hitting time to optimum is still small (**205 to 443 evaluations**).  \n",
    "  - Minimal λ to achieve at least 7/10 successful runs: **λ = 2**.  \n",
    "\n",
    "**Conclusion for OneMax:**  \n",
    "(1+1)-EA is overall more evaluation-efficient. (1+λ)-EA can succeed with a small λ but becomes expensive in terms of total evaluations.  \n",
    "\n",
    "---\n",
    "\n",
    "## LeadingOnes\n",
    "- **(1+1)-EA**  \n",
    "  - Needs more generations to converge (`n_gens = 500`).  \n",
    "  - Average number of evaluations: about **500**.  \n",
    "  - First hitting times vary between **202 and 495 evaluations**.  \n",
    "  - Capable of finding the optimum but slower compared to OneMax.  \n",
    "\n",
    "- **(1+λ)-EA**  \n",
    "  - Converges reliably when the number of generations is `n_gens = 600`.  \n",
    "  - Total evaluations are very high (around **20,401**).  \n",
    "  - Hitting times vary widely, between **239 and 817 evaluations**.  \n",
    "  - Minimal λ to achieve at least 7/10 successful runs: **λ = 4**.  \n",
    "\n",
    "**Conclusion for LeadingOnes:**  \n",
    "(1+1)-EA is more stable and evaluation-efficient. (1+λ)-EA requires many more evaluations and does not show clear improvement.  \n",
    "\n",
    "---\n",
    "\n",
    "## Overall Summary\n",
    "- For **OneMax**, (1+1)-EA is simple and effective, while (1+λ)-EA works with a small λ (λ = 2) but becomes costly when λ grows.  \n",
    "- For **LeadingOnes**, (1+1)-EA is the better choice. (1+λ)-EA is significantly more evaluation-expensive without notable benefits.  \n",
    "- Choosing λ in (1+λ)-EA requires care: larger values quickly increase evaluation cost without improving performance.  \n"
   ]
  }
 ],
 "metadata": {
  "kernelspec": {
   "display_name": ".conda",
   "language": "python",
   "name": "python3"
  },
  "language_info": {
   "codemirror_mode": {
    "name": "ipython",
    "version": 3
   },
   "file_extension": ".py",
   "mimetype": "text/x-python",
   "name": "python",
   "nbconvert_exporter": "python",
   "pygments_lexer": "ipython3",
   "version": "3.11.13"
  }
 },
 "nbformat": 4,
 "nbformat_minor": 5
}
