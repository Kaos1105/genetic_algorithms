{
  "nbformat": 4,
  "nbformat_minor": 0,
  "metadata": {
    "colab": {
      "provenance": []
    },
    "kernelspec": {
      "name": "python3",
      "display_name": "Python 3"
    },
    "language_info": {
      "name": "python"
    }
  },
  "cells": [
    {
      "cell_type": "code",
      "metadata": {
        "id": "QSIxbnyHyr-z"
      },
      "source": [
        "import matplotlib.pyplot as plt\n",
        "import numpy as np"
      ],
      "execution_count": null,
      "outputs": []
    },
    {
      "cell_type": "code",
      "metadata": {
        "id": "Uu2idOssNfNZ"
      },
      "source": [
        "num_evals = 0"
      ],
      "execution_count": null,
      "outputs": []
    },
    {
      "cell_type": "code",
      "metadata": {
        "id": "iZrwB4t97gtn"
      },
      "source": [
        "def de(fobj, bounds, F_scale=0.8, cross_prob=0.7, popsize=20, max_iters=100):\n",
        "    dimensions = len(bounds); lower_bound, upper_bound = np.asarray(bounds).T\n",
        "\n",
        "    diff = np.fabs(lower_bound - upper_bound)\n",
        "\n",
        "    pop = lower_bound + diff * np.random.rand(popsize, dimensions)\n",
        "\n",
        "    fitness = np.asarray([fobj(ind) for ind in pop])\n",
        "\n",
        "    best_idx = np.argmin(fitness)\n",
        "\n",
        "    best = pop[best_idx]\n",
        "\n",
        "    results = []; all_pops = []\n",
        "    results.append((np.copy(best), fitness[best_idx]))\n",
        "    all_pops.append(np.copy(pop))\n",
        "    for i in range(max_iters):\n",
        "        for j in range(popsize):\n",
        "            idxs = [idx for idx in range(popsize) if idx != j]\n",
        "            a, b, c = pop[np.random.choice(idxs, 3, replace=False)]\n",
        "            mutant = np.clip(a + F_scale * (b-c), lower_bound, upper_bound)\n",
        "\n",
        "            cross_points = np.random.rand(dimensions) < cross_prob\n",
        "            if not np.any(cross_points):\n",
        "                cross_points[np.random.randint(0, dimensions)] = True\n",
        "\n",
        "            trial = np.where(cross_points, mutant, pop[j])\n",
        "\n",
        "            f = fobj(trial)\n",
        "\n",
        "            if f < fitness[j]:\n",
        "                fitness[j] = f\n",
        "                pop[j] = trial\n",
        "                if f < fitness[best_idx]:\n",
        "                    best_idx = j\n",
        "                    best = trial\n",
        "\n",
        "        results.append((np.copy(best), fitness[best_idx]))\n",
        "        all_pops.append(np.copy(pop))\n",
        "\n",
        "\n",
        "    return results, all_pops\n"
      ],
      "execution_count": null,
      "outputs": []
    },
    {
      "cell_type": "code",
      "metadata": {
        "id": "14sL30GQKTYh"
      },
      "source": [
        "def es(fobj, bounds, sigma_init=1.0, c_inc=1.1, c_dec=0.6, popsize=20, max_iters=100):\n",
        "    dimensions = len(bounds)\n",
        "\n",
        "    lower_bound, upper_bound = np.asarray(bounds).T\n",
        "\n",
        "    diff = np.fabs(lower_bound - upper_bound)\n",
        "\n",
        "    mu = lower_bound + diff * np.random.rand(dimensions)\n",
        "\n",
        "    mu_fitness = fobj(mu)\n",
        "\n",
        "    results = []\n",
        "    all_pops = []\n",
        "    results.append((np.copy(mu), mu_fitness))\n",
        "    sigma = sigma_init\n",
        "\n",
        "    for i in range(max_iters):\n",
        "        epsilon = np.random.randn(popsize, dimensions)\n",
        "        offspring = mu + sigma * epsilon\n",
        "        offspring = np.clip(offspring, lower_bound, upper_bound)\n",
        "        offspring_fitness = np.asarray([fobj(offspring[i]) for i in range(popsize)])\n",
        "\n",
        "        best_idx = offspring_fitness.argmin()\n",
        "        best_fitness = offspring_fitness[best_idx]\n",
        "        best_offspring = offspring[best_idx]\n",
        "\n",
        "        if best_fitness <= mu_fitness:\n",
        "            mu = best_offspring.copy()\n",
        "            mu_fitness = best_fitness\n",
        "            sigma *= c_inc\n",
        "        else:\n",
        "            sigma *= c_dec\n",
        "\n",
        "        results.append((np.copy(mu), mu_fitness))\n",
        "        all_pops.append(np.copy(offspring))\n",
        "\n",
        "    return results, all_pops"
      ],
      "execution_count": null,
      "outputs": []
    },
    {
      "cell_type": "code",
      "metadata": {
        "id": "9oXVJxV2At_d"
      },
      "source": [
        "# # Sphere\n",
        "# def f(z):\n",
        "#     x = z[0]\n",
        "#     y = z[1]\n",
        "#     return x*x + y*y\n",
        "\n",
        "# def F(x,y):\n",
        "#     return x*x + y*y"
      ],
      "execution_count": null,
      "outputs": []
    },
    {
      "cell_type": "code",
      "metadata": {
        "id": "XpZ9eSG1DU7u"
      },
      "source": [
        "# Rastrigin\n",
        "def f(z):\n",
        "    res = 10*len(z)\n",
        "    for i in range(len(z)):\n",
        "        res += (z[i]*z[i] - 10.0 * np.cos(2*np.pi*z[i]))\n",
        "\n",
        "    return res\n",
        "\n",
        "def F(x,y):\n",
        "    res = 20.0\n",
        "    res += (x*x - 10.0*np.cos(2*np.pi*x))\n",
        "    res += (y*y - 10.0*np.cos(2*np.pi*y))\n",
        "\n",
        "    return res"
      ],
      "execution_count": null,
      "outputs": []
    },
    {
      "cell_type": "code",
      "metadata": {
        "id": "wquHLbrKBZVD",
        "colab": {
          "base_uri": "https://localhost:8080/"
        },
        "outputId": "ccf2b067-9b92-4fa7-c081-98da9899a587"
      },
      "source": [
        "np.random.seed(42)\n",
        "results, all_pops = de(f, bounds=[(-3,3)]*2, popsize=20, max_iters=50)\n",
        "num_evals = 0\n",
        "# results, all_pops = es(f, bounds=[(-3,3)]*2, popsize=50, max_iters=25)\n",
        "results[-1]"
      ],
      "execution_count": null,
      "outputs": [
        {
          "output_type": "execute_result",
          "data": {
            "text/plain": [
              "(array([ 0.00068866, -0.00084685]), np.float64(0.00023636576059615777))"
            ]
          },
          "metadata": {},
          "execution_count": 209
        }
      ]
    },
    {
      "cell_type": "code",
      "metadata": {
        "id": "4aGvtbOz3yVv"
      },
      "source": [],
      "execution_count": null,
      "outputs": []
    }
  ]
}