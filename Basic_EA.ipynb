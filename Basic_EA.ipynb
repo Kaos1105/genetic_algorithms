{
  "cells": [
    {
      "cell_type": "code",
      "execution_count": 39,
      "id": "0c2cdb12",
      "metadata": {
        "id": "0c2cdb12"
      },
      "outputs": [],
      "source": [
        "import warnings\n",
        "warnings.filterwarnings('ignore')\n",
        "%matplotlib inline\n",
        "import matplotlib.pyplot as plt\n",
        "import math\n",
        "import numpy as np\n",
        "from tqdm import tqdm\n",
        "np.random.seed(1234)"
      ]
    },
    {
      "cell_type": "markdown",
      "id": "ccc906d2",
      "metadata": {
        "id": "ccc906d2"
      },
      "source": [
        "# Individuals\n",
        "* The base unit of an evolutionary algorithm (EA) is the individual.\n",
        "* An individual represents a single solution to the problem we want to solve.\n",
        "* Classic EAs often have binary individuals, where each gene is represented by a bit (0/1 value)."
      ]
    },
    {
      "cell_type": "code",
      "execution_count": 40,
      "id": "0b20c954",
      "metadata": {
        "id": "0b20c954"
      },
      "outputs": [],
      "source": [
        "class Individual:\n",
        "\n",
        "    def __init__(self, n: int):\n",
        "        self.genes = np.random.randint(0, 2, (n,))\n",
        "        self.fitness = -np.inf\n",
        "\n",
        "    def __str__(self):\n",
        "        return f'(Ind: {self.genes}, {self.fitness})'\n",
        "\n",
        "    def __repr__(self):\n",
        "        return str(self)"
      ]
    },
    {
      "cell_type": "markdown",
      "id": "da8be9a7",
      "metadata": {
        "id": "da8be9a7"
      },
      "source": [
        "* Individual has binary genes and an integer fitness.\n",
        "* A newly-initialized individual often has random genes."
      ]
    },
    {
      "cell_type": "code",
      "execution_count": 41,
      "id": "4836c0e5",
      "metadata": {
        "colab": {
          "base_uri": "https://localhost:8080/"
        },
        "id": "4836c0e5",
        "outputId": "8e3445af-c985-4a71-8c2a-9ab4d58fff30"
      },
      "outputs": [
        {
          "data": {
            "text/plain": [
              "(Ind: [1 1 0 1 0 0 0 1 1 1], -inf)"
            ]
          },
          "execution_count": 41,
          "metadata": {},
          "output_type": "execute_result"
        }
      ],
      "source": [
        "ind = Individual(10)\n",
        "ind"
      ]
    },
    {
      "cell_type": "markdown",
      "id": "6f8d39eb",
      "metadata": {
        "id": "6f8d39eb"
      },
      "source": [
        "# Objectives\n",
        "* The objective function gives a value to our individual.\n",
        "* The objective function can be designed so that it can **evaluate** the individual.\n",
        "* The objective function value of an individual is often called the **fitness value** of that individual.\n",
        "* The objective function does not need to be differentiable or continuous."
      ]
    },
    {
      "cell_type": "code",
      "execution_count": 42,
      "id": "7a948748",
      "metadata": {
        "id": "7a948748"
      },
      "outputs": [],
      "source": [
        "def onemax(i: Individual):\n",
        "    return np.sum(i.genes)"
      ]
    },
    {
      "cell_type": "markdown",
      "id": "3e7f8c2a",
      "metadata": {
        "id": "3e7f8c2a"
      },
      "source": [
        "* The OneMax function simply adds all the bits of the genotype of the individual."
      ]
    },
    {
      "cell_type": "code",
      "execution_count": 43,
      "id": "dbbeecde",
      "metadata": {
        "colab": {
          "base_uri": "https://localhost:8080/"
        },
        "id": "dbbeecde",
        "outputId": "f058ed25-1a8a-4a42-8b16-c757496587e7"
      },
      "outputs": [
        {
          "data": {
            "text/plain": [
              "(Ind: [1 1 0 1 0 0 0 1 1 1], 6)"
            ]
          },
          "execution_count": 43,
          "metadata": {},
          "output_type": "execute_result"
        }
      ],
      "source": [
        "ind.fitness = onemax(ind)\n",
        "ind"
      ]
    },
    {
      "cell_type": "markdown",
      "id": "ff2f331c",
      "metadata": {
        "id": "ff2f331c"
      },
      "source": [
        "* The optimal solution for OneMax is the individual that has the genotype of all 1s."
      ]
    },
    {
      "cell_type": "markdown",
      "id": "f966ab6e",
      "metadata": {
        "id": "f966ab6e"
      },
      "source": [
        "* To be more general, we often define an **evaluate** function, which evaluate the fitness value of an individual."
      ]
    },
    {
      "cell_type": "code",
      "execution_count": 44,
      "id": "fb4cbd49",
      "metadata": {
        "colab": {
          "base_uri": "https://localhost:8080/"
        },
        "id": "fb4cbd49",
        "outputId": "391d9d1f-36ec-4274-9de1-72b83266a58c"
      },
      "outputs": [
        {
          "data": {
            "text/plain": [
              "(Ind: [1 1 0 1 0 0 0 1 1 1], 6)"
            ]
          },
          "execution_count": 44,
          "metadata": {},
          "output_type": "execute_result"
        }
      ],
      "source": [
        "def evaluate(ind: Individual, objective):\n",
        "    ind.fitness = objective(ind)\n",
        "\n",
        "evaluate(ind, onemax)\n",
        "ind"
      ]
    },
    {
      "cell_type": "markdown",
      "id": "dad91af2",
      "metadata": {
        "id": "dad91af2"
      },
      "source": [
        "* Each time we evaluate the fitness value of an individual, we spend one evaluation function call.\n",
        "* To be abstract from the exact runtime on specific hardware, we often use the **number of evaluations** as the computing cost/budget for EAs."
      ]
    },
    {
      "cell_type": "markdown",
      "id": "c58ae943",
      "metadata": {
        "id": "c58ae943"
      },
      "source": [
        "# (1+1) Evolutionary Algorithm ~~~ (1+1)-EA\n",
        "\n",
        "1. Initialize a random individual of $n$ genes, i.e., a bitstring $x\\in\\{0;1\\}^n$.\n",
        "2. Repeat the following **mutation** step:\n",
        "    1. Compute $x'$ by flipping each bit $x_i$ with probability $p$.\n",
        "    2. Replace $x$ by $x'$ if $f(x')\\geq f(x)$."
      ]
    },
    {
      "cell_type": "code",
      "execution_count": 45,
      "id": "0fc5aaf7",
      "metadata": {
        "id": "0fc5aaf7"
      },
      "outputs": [],
      "source": [
        "n = 20"
      ]
    },
    {
      "cell_type": "code",
      "execution_count": 46,
      "id": "d110f4e6",
      "metadata": {
        "colab": {
          "base_uri": "https://localhost:8080/"
        },
        "id": "d110f4e6",
        "outputId": "8a68e50c-406c-460b-b717-1fa0c28bf765"
      },
      "outputs": [
        {
          "data": {
            "text/plain": [
              "(Ind: [1 1 0 0 1 0 0 0 0 0 0 0 0 0 1 0 1 1 0 0], 6)"
            ]
          },
          "execution_count": 46,
          "metadata": {},
          "output_type": "execute_result"
        }
      ],
      "source": [
        "parent = Individual(n)\n",
        "evaluate(parent, onemax)\n",
        "parent"
      ]
    },
    {
      "cell_type": "code",
      "execution_count": 47,
      "id": "d9b34a78",
      "metadata": {
        "id": "d9b34a78"
      },
      "outputs": [],
      "source": [
        "def mutate(ind: Individual, mutation_rate=1.0/len(ind.genes)):\n",
        "    new_genes = np.copy(ind.genes)\n",
        "    for i in range(len(new_genes)):\n",
        "        if np.random.rand() < mutation_rate:\n",
        "            new_genes[i] = not ind.genes[i]\n",
        "    child = Individual(len(ind.genes))\n",
        "    child.genes = new_genes\n",
        "    return child"
      ]
    },
    {
      "cell_type": "markdown",
      "id": "70643b32",
      "metadata": {
        "id": "70643b32"
      },
      "source": [
        "* The **mutate** function create a **child/offspring** individual from a **parent** individual with the mutation probability of $p=\\frac{1}{n}$.\n",
        "* We scan through each gene in an individual.\n",
        "* For each gene, we generate a random number $r\\in (0,1)$.\n",
        "* If $r < p$, we flip the gene value $0 \\leftrightarrow 1$."
      ]
    },
    {
      "cell_type": "code",
      "execution_count": 48,
      "id": "846a354b",
      "metadata": {
        "colab": {
          "base_uri": "https://localhost:8080/"
        },
        "id": "846a354b",
        "outputId": "f100211f-b814-4179-ec50-7c5a2fbec1c5"
      },
      "outputs": [
        {
          "name": "stdout",
          "output_type": "stream",
          "text": [
            "Parent : (Ind: [1 1 0 0 1 0 0 0 0 0 0 0 0 0 1 0 1 1 0 0], 6)\n",
            "Child  : (Ind: [1 1 1 0 1 0 0 1 0 0 0 0 0 0 1 0 1 1 0 0], -inf)\n",
            "Genes : [ True  True False  True  True  True  True False  True  True  True  True\n",
            "  True  True  True  True  True  True  True  True]\n"
          ]
        }
      ],
      "source": [
        "child = mutate(parent)\n",
        "print(\"Parent :\", parent)\n",
        "print(\"Child  :\", child)\n",
        "print(\"Genes :\", parent.genes == child.genes)"
      ]
    },
    {
      "cell_type": "markdown",
      "id": "6f32fa04",
      "metadata": {
        "id": "6f32fa04"
      },
      "source": [
        "* Running this mutation function a few times.\n",
        "* Each time, only one or two genes change because the mutation rate is set to $p=\\frac{1}{n}$."
      ]
    },
    {
      "cell_type": "code",
      "execution_count": 49,
      "id": "46e90732",
      "metadata": {
        "colab": {
          "base_uri": "https://localhost:8080/"
        },
        "id": "46e90732",
        "outputId": "c50130c9-2067-4b87-ddd6-cba97c287ee1"
      },
      "outputs": [
        {
          "name": "stdout",
          "output_type": "stream",
          "text": [
            "Parent : (Ind: [1 1 0 0 1 0 0 0 0 0 0 0 0 0 1 0 1 1 0 0], 6)\n",
            "Child  : (Ind: [1 0 0 0 1 0 0 0 1 0 0 0 0 0 1 0 1 1 0 0], -inf)\n",
            "Genes : [ True False  True  True  True  True  True  True False  True  True  True\n",
            "  True  True  True  True  True  True  True  True]\n"
          ]
        }
      ],
      "source": [
        "child = mutate(parent)\n",
        "print(\"Parent :\", parent)\n",
        "print(\"Child  :\", child)\n",
        "print(\"Genes :\", parent.genes == child.genes)"
      ]
    },
    {
      "cell_type": "code",
      "execution_count": 50,
      "id": "a4489a1e",
      "metadata": {
        "colab": {
          "base_uri": "https://localhost:8080/"
        },
        "id": "a4489a1e",
        "outputId": "ccfe5f5b-4354-42a4-a90d-27d55323f024"
      },
      "outputs": [
        {
          "name": "stdout",
          "output_type": "stream",
          "text": [
            "Parent : (Ind: [1 1 0 0 1 0 0 0 0 0 0 0 0 0 1 0 1 1 0 0], 6)\n",
            "Child  : (Ind: [1 1 0 1 1 0 0 0 0 0 0 0 0 0 1 0 1 1 0 0], -inf)\n",
            "Genes : [ True  True  True False  True  True  True  True  True  True  True  True\n",
            "  True  True  True  True  True  True  True  True]\n"
          ]
        }
      ],
      "source": [
        "child = mutate(parent)\n",
        "print(\"Parent :\", parent)\n",
        "print(\"Child  :\", child)\n",
        "print(\"Genes :\", parent.genes == child.genes)"
      ]
    },
    {
      "cell_type": "markdown",
      "id": "22198101",
      "metadata": {
        "id": "22198101"
      },
      "source": [
        "* Each time, we replace the parent individual $x$ by the child individual $x'$ if the fitness of the offspring is better, i.e., $f(x')\\geq f(x)$."
      ]
    },
    {
      "cell_type": "code",
      "execution_count": 51,
      "id": "4194302c",
      "metadata": {
        "colab": {
          "base_uri": "https://localhost:8080/"
        },
        "id": "4194302c",
        "outputId": "18c6b1f2-d78a-489b-ed43-f77a19bc2cee"
      },
      "outputs": [
        {
          "name": "stdout",
          "output_type": "stream",
          "text": [
            "6\n",
            "7\n"
          ]
        },
        {
          "data": {
            "text/plain": [
              "np.int64(7)"
            ]
          },
          "execution_count": 51,
          "metadata": {},
          "output_type": "execute_result"
        }
      ],
      "source": [
        "evaluate(child, onemax)\n",
        "print(parent.fitness)\n",
        "print(child.fitness)\n",
        "if child.fitness >= parent.fitness:\n",
        "    parent = child\n",
        "parent.fitness"
      ]
    },
    {
      "cell_type": "markdown",
      "id": "c7762a03",
      "metadata": {
        "id": "c7762a03"
      },
      "source": [
        "* We simply run this mutation step over and over until we reach the solution we want or the certain **termination criterion** is met (e.g., the **maximum number of evaluations** are all spent).\n",
        "* Let's just run for a few iterations."
      ]
    },
    {
      "cell_type": "code",
      "execution_count": 52,
      "id": "937ee65d",
      "metadata": {
        "colab": {
          "base_uri": "https://localhost:8080/"
        },
        "id": "937ee65d",
        "outputId": "3831c6e9-563d-4c8e-a8a6-5236cddaf8fd"
      },
      "outputs": [
        {
          "name": "stdout",
          "output_type": "stream",
          "text": [
            "19  /  20\n"
          ]
        }
      ],
      "source": [
        "parent = Individual(n)\n",
        "for i in range(20):\n",
        "    child = mutate(parent)\n",
        "    evaluate(child, onemax)\n",
        "    if child.fitness >= parent.fitness:\n",
        "        parent = child\n",
        "    # print(i, \" \", parent.fitness)\n",
        "\n",
        "print(parent.fitness, \" / \", n)"
      ]
    },
    {
      "cell_type": "markdown",
      "id": "b257167d",
      "metadata": {
        "id": "b257167d"
      },
      "source": [
        "* Let's code the (1+1)-EA."
      ]
    },
    {
      "cell_type": "code",
      "execution_count": 53,
      "id": "0149517e",
      "metadata": {
        "id": "0149517e"
      },
      "outputs": [],
      "source": [
        "def one_plus_one(ind_length: int, num_generations: int, objective):\n",
        "    fits = np.zeros(num_generations)\n",
        "    parent = Individual(ind_length)\n",
        "    evaluate(parent, objective)\n",
        "\n",
        "    for i in tqdm(range(len(fits))):\n",
        "        child = mutate(parent)\n",
        "        evaluate(child, objective)\n",
        "\n",
        "        if child.fitness >= parent.fitness:\n",
        "            parent = child\n",
        "\n",
        "        fits[i] = parent.fitness\n",
        "    return fits"
      ]
    },
    {
      "cell_type": "markdown",
      "id": "024c9e03",
      "metadata": {
        "id": "024c9e03"
      },
      "source": [
        "* Since EAs are stochastic algorithm, it's difficult to guarantee their exact computational complexity.\n",
        "* A common metric is the **expected number of generations** to each the optimal solution.\n",
        "* The worst-case for a binary (1+1)-EA to converge is $O(n^n)$, but we often don't need to run that long to see convergence.\n",
        "* For OneMax, the expected runtime for (1+1)-EA has been proven to be $O(n\\log{n})$ when the mutation rate is $p=\\frac{1}{n}$.\n",
        "https://core.ac.uk/download/pdf/82100186.pdf"
      ]
    },
    {
      "cell_type": "code",
      "execution_count": 54,
      "id": "0d5f6440",
      "metadata": {
        "colab": {
          "base_uri": "https://localhost:8080/"
        },
        "id": "0d5f6440",
        "outputId": "d27f6ee7-56d7-406f-86dd-88b59b5c3ca9"
      },
      "outputs": [
        {
          "name": "stderr",
          "output_type": "stream",
          "text": [
            "100%|██████████| 196/196 [00:00<00:00, 19156.54it/s]"
          ]
        },
        {
          "name": "stdout",
          "output_type": "stream",
          "text": [
            "45.0\n"
          ]
        },
        {
          "name": "stderr",
          "output_type": "stream",
          "text": [
            "\n"
          ]
        }
      ],
      "source": [
        "n = 50\n",
        "fits = one_plus_one(n, int(np.round(n * np.log(n))), onemax)\n",
        "print(fits[-1])"
      ]
    },
    {
      "cell_type": "code",
      "execution_count": 55,
      "id": "51f129dc",
      "metadata": {
        "colab": {
          "base_uri": "https://localhost:8080/",
          "height": 472
        },
        "id": "51f129dc",
        "outputId": "899030db-2c11-4e5e-ff22-9231af4060bb"
      },
      "outputs": [
        {
          "data": {
            "image/png": "[encoded data removed]",
            "text/plain": [
              "<Figure size 640x480 with 1 Axes>"
            ]
          },
          "metadata": {},
          "output_type": "display_data"
        }
      ],
      "source": [
        "plt.plot(fits, 'b')\n",
        "plt.xlabel(\"Generations\")\n",
        "plt.ylabel(\"Fitness\")\n",
        "plt.title(f\"One-Max on {n} Dimensions\");"
      ]
    },
    {
      "cell_type": "code",
      "execution_count": 56,
      "id": "b00d9512",
      "metadata": {
        "colab": {
          "base_uri": "https://localhost:8080/"
        },
        "id": "b00d9512",
        "outputId": "a6d9b3f5-29e1-48a8-bfb4-6b3e1d1bc263"
      },
      "outputs": [
        {
          "name": "stderr",
          "output_type": "stream",
          "text": [
            "100%|██████████| 1960/1960 [00:00<00:00, 19990.70it/s]"
          ]
        },
        {
          "name": "stdout",
          "output_type": "stream",
          "text": [
            "49.0\n"
          ]
        },
        {
          "name": "stderr",
          "output_type": "stream",
          "text": [
            "\n"
          ]
        }
      ],
      "source": [
        "n = 50\n",
        "fits = one_plus_one(n, int(np.round(n * np.log(n)))*10, onemax)\n",
        "print(fits[-1])"
      ]
    },
    {
      "cell_type": "code",
      "execution_count": 57,
      "id": "338d9765",
      "metadata": {
        "colab": {
          "base_uri": "https://localhost:8080/",
          "height": 472
        },
        "id": "338d9765",
        "outputId": "8ae7f6e0-8261-4052-a777-d63ca7272154"
      },
      "outputs": [
        {
          "data": {
            "image/png": "[encoded data removed]",
            "text/plain": [
              "<Figure size 640x480 with 1 Axes>"
            ]
          },
          "metadata": {},
          "output_type": "display_data"
        }
      ],
      "source": [
        "plt.plot(fits, 'b')\n",
        "plt.xlabel(\"Generations\")\n",
        "plt.ylabel(\"Fitness\")\n",
        "plt.title(f\"One-Max on {n} Dimensions\");"
      ]
    },
    {
      "cell_type": "markdown",
      "id": "8a980bb2",
      "metadata": {
        "id": "8a980bb2"
      },
      "source": [
        "* The **Leading Ones** problem is another benchmark function for EAs.\n",
        "* The Leading Ones function counts the number of 1-bits from left to right, stopping when the first 0-bit is found.\n",
        "\n",
        "<div style='text-align: center;'>\n",
        "$f(x) = \\sum_{i=1}^n\\prod_{j=1}^i x_j$\n",
        "    </div>"
      ]
    },
    {
      "cell_type": "code",
      "execution_count": 58,
      "id": "86ca2d38",
      "metadata": {
        "colab": {
          "base_uri": "https://localhost:8080/"
        },
        "id": "86ca2d38",
        "outputId": "8692a16b-24b3-41c9-f640-56d2b7a2f64e"
      },
      "outputs": [
        {
          "name": "stdout",
          "output_type": "stream",
          "text": [
            "(Ind: [1 1 0 1 0 0 0 1 1 1], 6)\n"
          ]
        },
        {
          "data": {
            "text/plain": [
              "2"
            ]
          },
          "execution_count": 58,
          "metadata": {},
          "output_type": "execute_result"
        }
      ],
      "source": [
        "def leading_ones(ind: Individual):\n",
        "    f = 0\n",
        "    for i in range(len(ind.genes)):\n",
        "        if not ind.genes[i]:\n",
        "            f = i\n",
        "            break\n",
        "        if i == len(ind.genes) - 1:\n",
        "            f = len(ind.genes)\n",
        "    return f\n",
        "print(ind)\n",
        "leading_ones(ind)"
      ]
    },
    {
      "cell_type": "markdown",
      "id": "610509b9",
      "metadata": {
        "id": "610509b9"
      },
      "source": [
        "**Question**: What is the expected runtime of (1+1)-EA on the Leading Ones problem?"
      ]
    },
    {
      "cell_type": "markdown",
      "id": "ec700ef3",
      "metadata": {
        "id": "ec700ef3"
      },
      "source": [
        "# (1+λ) Evolutionary Algorithm - (1+λ)-EA\n",
        "* We made a small change to the (1+1)-EA: instead of generating one offspring individual each iteration (generation), we generate λ offspring individuals.\n",
        "* These λ individuals can be called a **population**, and λ is the **population size**."
      ]
    },
    {
      "cell_type": "markdown",
      "id": "e5e3f6d0",
      "metadata": {
        "id": "e5e3f6d0"
      },
      "source": [
        "* For (1+λ)-EA, beside the mutation rate, the population size is another control parameter of the algorithm (i.e., hyperparameter).\n",
        "* The expected runtime for (1+λ)-EA on OneMax is upper bounded by $O(n\\log\\logλ/\\logλ)$ when λ is larger than $O(\\log n\\log\\log n/\\log\\log\\log n)$.\n",
        "https://www.sciencedirect.com/science/article/pii/S0304397514002060"
      ]
    },
    {
      "cell_type": "markdown",
      "id": "ff1e2c00",
      "metadata": {
        "id": "ff1e2c00"
      },
      "source": [
        "* We modify one_plus_one function to create the one_plus_lambda function.\n",
        "* We keep track of the best offspring individual to compare it with the parent individual in the next generation."
      ]
    },
    {
      "cell_type": "code",
      "execution_count": 59,
      "id": "c30926c8",
      "metadata": {
        "id": "c30926c8"
      },
      "outputs": [],
      "source": [
        "def one_plus_lambda(ind_length: int, num_generations: int, objective, 𝜆: int):\n",
        "    fits = np.zeros(num_generations)\n",
        "    parent = Individual(ind_length)\n",
        "    evaluate(parent, objective)\n",
        "\n",
        "    for i in tqdm(range(len(fits))):\n",
        "        population = [parent,]\n",
        "        best = 0\n",
        "        for j in range(1, 𝜆):\n",
        "            population.append(mutate(parent))\n",
        "            evaluate(population[j], objective)\n",
        "            if population[j].fitness > population[best].fitness:\n",
        "                best = j\n",
        "        if population[best].fitness >= parent.fitness:\n",
        "            parent = population[best]\n",
        "        fits[i] = parent.fitness\n",
        "    return fits"
      ]
    },
    {
      "cell_type": "code",
      "execution_count": 60,
      "id": "031637ab",
      "metadata": {
        "colab": {
          "base_uri": "https://localhost:8080/"
        },
        "id": "031637ab",
        "outputId": "4853a3a3-c33a-4006-dd2f-389762649c3f"
      },
      "outputs": [
        {
          "name": "stdout",
          "output_type": "stream",
          "text": [
            "17\n"
          ]
        }
      ],
      "source": [
        "n = 100\n",
        "𝜆 = int(round(np.log(n)*np.log(np.log(n))/np.log(np.log(np.log(n)))))\n",
        "print(𝜆)"
      ]
    },
    {
      "cell_type": "markdown",
      "id": "7dd5505f",
      "metadata": {
        "id": "7dd5505f"
      },
      "source": [
        "Let's round up λ=20 for the sake of simplicity."
      ]
    },
    {
      "cell_type": "code",
      "execution_count": 61,
      "id": "7c82e7b0",
      "metadata": {
        "id": "7c82e7b0"
      },
      "outputs": [],
      "source": [
        "λ = 20"
      ]
    },
    {
      "cell_type": "code",
      "execution_count": 62,
      "id": "efb6e937",
      "metadata": {
        "colab": {
          "base_uri": "https://localhost:8080/"
        },
        "id": "efb6e937",
        "outputId": "f1736a60-e7db-48e7-fa96-0a664d3ebda6"
      },
      "outputs": [
        {
          "name": "stderr",
          "output_type": "stream",
          "text": [
            "100%|██████████| 1000/1000 [00:00<00:00, 14945.50it/s]\n",
            "100%|██████████| 1000/1000 [00:01<00:00, 685.42it/s]\n"
          ]
        },
        {
          "data": {
            "text/plain": [
              "(np.float64(86.0), np.float64(95.0))"
            ]
          },
          "execution_count": 62,
          "metadata": {},
          "output_type": "execute_result"
        }
      ],
      "source": [
        "n = 100\n",
        "n_gens = 1000\n",
        "fits_1 = one_plus_one(n, n_gens, onemax)\n",
        "fits_𝜆 = one_plus_lambda(n, n_gens, onemax, 𝜆)\n",
        "fits_1[-1], fits_𝜆[-1]"
      ]
    },
    {
      "cell_type": "code",
      "execution_count": 63,
      "id": "c1d0acb4",
      "metadata": {
        "colab": {
          "base_uri": "https://localhost:8080/",
          "height": 472
        },
        "id": "c1d0acb4",
        "outputId": "a23190fa-c40d-45bd-8118-44e3eb49a04d"
      },
      "outputs": [
        {
          "data": {
            "image/png": "[encoded data removed]",
            "text/plain": [
              "<Figure size 640x480 with 1 Axes>"
            ]
          },
          "metadata": {},
          "output_type": "display_data"
        }
      ],
      "source": [
        "plt.plot(fits_1, label=\"1+1\", color='b')\n",
        "plt.plot(fits_𝜆, label=\"1+λ\", color='g')\n",
        "plt.xlabel(\"Generations\")\n",
        "plt.ylabel(\"Fitness\")\n",
        "plt.title(f\"One-Max on {n} Dimensions\")\n",
        "plt.legend();"
      ]
    },
    {
      "cell_type": "code",
      "execution_count": 64,
      "id": "1729bbc3",
      "metadata": {
        "colab": {
          "base_uri": "https://localhost:8080/",
          "height": 472
        },
        "id": "1729bbc3",
        "outputId": "63cd4d1f-9e4a-4531-ca75-4fb404c9c76e"
      },
      "outputs": [
        {
          "data": {
            "image/png": "[encoded data removed]",
            "text/plain": [
              "<Figure size 640x480 with 1 Axes>"
            ]
          },
          "metadata": {},
          "output_type": "display_data"
        }
      ],
      "source": [
        "plt.plot(fits_1, label=\"1+1\", color='b')\n",
        "plt.plot(fits_𝜆, label=\"1+λ\", color='g')\n",
        "plt.xlabel(\"Generations\")\n",
        "plt.ylabel(\"Fitness\")\n",
        "plt.title(f\"One-Max on {n} Dimensions\")\n",
        "plt.legend();"
      ]
    },
    {
      "cell_type": "markdown",
      "id": "8c966711",
      "metadata": {
        "id": "8c966711"
      },
      "source": [
        "* (1+λ)-EA seems to be better than (1+1)-EA. But is this a fair comparison?"
      ]
    },
    {
      "cell_type": "markdown",
      "id": "ca9c3499",
      "metadata": {
        "id": "ca9c3499"
      },
      "source": [
        "* (1+λ)-EA actually runs λ evaluation functions per generation, while (1+1)-EA only runs 1 evaluation function per generation.\n",
        "* We need to plot the results base on the number of evaluations."
      ]
    },
    {
      "cell_type": "code",
      "execution_count": 65,
      "id": "0bea6ae1",
      "metadata": {
        "colab": {
          "base_uri": "https://localhost:8080/",
          "height": 472
        },
        "id": "0bea6ae1",
        "outputId": "40c3beeb-96cd-4049-9663-5340809176c1"
      },
      "outputs": [
        {
          "data": {
            "image/png": "[encoded data removed]",
            "text/plain": [
              "<Figure size 640x480 with 1 Axes>"
            ]
          },
          "metadata": {},
          "output_type": "display_data"
        }
      ],
      "source": [
        "plt.plot(fits_1, label=\"1+1\", color='b')\n",
        "plt.plot(np.arange(1,n_gens*𝜆,𝜆), fits_𝜆, label=\"1+λ\", color='g')\n",
        "plt.xlabel(\"Evaluations\")\n",
        "plt.ylabel(\"Fitness\")\n",
        "plt.title(f\"One-Max on {n} Dimensions\")\n",
        "plt.legend();"
      ]
    },
    {
      "cell_type": "markdown",
      "id": "0bd7625f",
      "metadata": {
        "id": "0bd7625f"
      },
      "source": [
        "* We should give each algorithm the same number of function evaluations, like this:"
      ]
    },
    {
      "cell_type": "code",
      "execution_count": 66,
      "id": "4ce76a05",
      "metadata": {
        "colab": {
          "base_uri": "https://localhost:8080/"
        },
        "id": "4ce76a05",
        "outputId": "a86205a9-6001-45f6-9363-b527358c7062"
      },
      "outputs": [
        {
          "name": "stderr",
          "output_type": "stream",
          "text": [
            "100%|██████████| 10000/10000 [00:04<00:00, 2383.52it/s]\n",
            "100%|██████████| 500/500 [00:03<00:00, 126.51it/s]\n"
          ]
        }
      ],
      "source": [
        "n = 1000\n",
        "n_gens = 10000\n",
        "fits_1 = one_plus_one(n, n_gens, onemax)\n",
        "fits_𝜆 = one_plus_lambda(n, int(n_gens/𝜆), onemax, 𝜆)"
      ]
    },
    {
      "cell_type": "code",
      "execution_count": 67,
      "id": "401987c3",
      "metadata": {
        "colab": {
          "base_uri": "https://localhost:8080/",
          "height": 472
        },
        "id": "401987c3",
        "outputId": "775f06d2-80ea-4b68-d704-3001bc6743fc"
      },
      "outputs": [
        {
          "data": {
            "image/png": "[encoded data removed]",
            "text/plain": [
              "<Figure size 640x480 with 1 Axes>"
            ]
          },
          "metadata": {},
          "output_type": "display_data"
        }
      ],
      "source": [
        "plt.plot(fits_1, label=\"1+1\", color='b')\n",
        "plt.plot(np.arange(1,n_gens,𝜆), fits_𝜆, label=\"1+λ\", color='g')\n",
        "plt.xlabel(\"Evaluations\")\n",
        "plt.ylabel(\"Fitness\")\n",
        "plt.title(f\"One-Max on {n} Dimensions\")\n",
        "plt.legend();"
      ]
    },
    {
      "cell_type": "markdown",
      "id": "4c7cf30f",
      "metadata": {
        "id": "4c7cf30f"
      },
      "source": [
        "* Because EAs employ randomness in their operations, to assess the performance of EAs, we should run them multiple times.\n",
        "* Let's run each algorithm 10 independent times."
      ]
    },
    {
      "cell_type": "code",
      "execution_count": 68,
      "id": "f37e6c52",
      "metadata": {
        "colab": {
          "base_uri": "https://localhost:8080/"
        },
        "id": "f37e6c52",
        "outputId": "d55690a0-dd3b-415b-ebc3-4b13243a08cb"
      },
      "outputs": [
        {
          "name": "stderr",
          "output_type": "stream",
          "text": [
            "100%|██████████| 1000/1000 [00:00<00:00, 11563.03it/s]\n",
            "100%|██████████| 50/50 [00:00<00:00, 1101.39it/s]\n",
            "100%|██████████| 1000/1000 [00:00<00:00, 14445.09it/s]\n",
            "100%|██████████| 50/50 [00:00<00:00, 630.09it/s]\n",
            "100%|██████████| 1000/1000 [00:00<00:00, 11065.51it/s]\n",
            "100%|██████████| 50/50 [00:00<00:00, 578.36it/s]\n",
            "100%|██████████| 1000/1000 [00:00<00:00, 16894.33it/s]\n",
            "100%|██████████| 50/50 [00:00<00:00, 976.19it/s]\n",
            "100%|██████████| 1000/1000 [00:00<00:00, 20320.94it/s]\n",
            "100%|██████████| 50/50 [00:00<00:00, 638.77it/s]\n",
            "100%|██████████| 1000/1000 [00:00<00:00, 10454.03it/s]\n",
            "100%|██████████| 50/50 [00:00<00:00, 640.89it/s]\n",
            "100%|██████████| 1000/1000 [00:00<00:00, 16196.54it/s]\n",
            "100%|██████████| 50/50 [00:00<00:00, 520.63it/s]\n",
            "100%|██████████| 1000/1000 [00:00<00:00, 10303.74it/s]\n",
            "100%|██████████| 50/50 [00:00<00:00, 1002.57it/s]\n",
            "100%|██████████| 1000/1000 [00:00<00:00, 15989.75it/s]\n",
            "100%|██████████| 50/50 [00:00<00:00, 1053.66it/s]\n",
            "100%|██████████| 1000/1000 [00:00<00:00, 17165.22it/s]\n",
            "100%|██████████| 50/50 [00:00<00:00, 788.64it/s]\n"
          ]
        }
      ],
      "source": [
        "n_trials = 10\n",
        "n = 100\n",
        "n_gens = 1000\n",
        "\n",
        "fits_1 = np.zeros((n_gens, n_trials))\n",
        "fits_𝜆 = np.zeros((int(n_gens/𝜆), n_trials))\n",
        "\n",
        "for i in range(n_trials):\n",
        "    fits_1[:, i] = one_plus_one(n, n_gens, onemax)\n",
        "    fits_𝜆[:, i] = one_plus_lambda(n, int(n_gens/𝜆), onemax, 𝜆)"
      ]
    },
    {
      "cell_type": "code",
      "execution_count": 69,
      "id": "9a28cd13",
      "metadata": {
        "colab": {
          "base_uri": "https://localhost:8080/"
        },
        "id": "9a28cd13",
        "outputId": "b6c4e64a-d7b8-4c7f-d142-a430bdf032aa"
      },
      "outputs": [
        {
          "name": "stdout",
          "output_type": "stream",
          "text": [
            "(1000,) (1000,)\n",
            "(50,) (50,)\n"
          ]
        }
      ],
      "source": [
        "μ_1 = np.mean(fits_1, axis=1)\n",
        "σ_1 = np.std(fits_1, axis=1)\n",
        "μ_𝜆 = np.mean(fits_𝜆, axis=1)\n",
        "σ_𝜆 = np.std(fits_𝜆, axis=1)\n",
        "print(np.shape(μ_1), np.shape(σ_1))\n",
        "print(np.shape(μ_𝜆), np.shape(σ_𝜆))"
      ]
    },
    {
      "cell_type": "code",
      "execution_count": 70,
      "id": "3d3b4af7",
      "metadata": {
        "colab": {
          "base_uri": "https://localhost:8080/",
          "height": 472
        },
        "id": "3d3b4af7",
        "outputId": "f614fcc0-1ec4-4490-b8ff-26ffc4cfb288"
      },
      "outputs": [
        {
          "data": {
            "image/png": "[encoded data removed]",
            "text/plain": [
              "<Figure size 640x480 with 1 Axes>"
            ]
          },
          "metadata": {},
          "output_type": "display_data"
        }
      ],
      "source": [
        "plt.plot(μ_1, label=\"1+1\", color='b')\n",
        "plt.fill_between(np.arange(0, n_gens), μ_1+σ_1, μ_1-σ_1, facecolor='b', alpha=0.1)\n",
        "plt.plot(np.arange(1,n_gens,𝜆), μ_𝜆, label=\"1+λ\", color='g')\n",
        "plt.fill_between(np.arange(0, n_gens, 𝜆), μ_𝜆+σ_𝜆, μ_𝜆-σ_𝜆, facecolor='b', alpha=0.1)\n",
        "plt.xlabel(\"Evaluations\")\n",
        "plt.ylabel(\"Fitness\")\n",
        "plt.title(f\"One-Max on {n} Dimensions\")\n",
        "plt.legend();"
      ]
    },
    {
      "cell_type": "markdown",
      "id": "26d3ffc2",
      "metadata": {
        "id": "26d3ffc2"
      },
      "source": [
        "**Question:** Compare the (1+1)-EA and (1+λ)-EA on the Leading Ones problem."
      ]
    },
    {
      "cell_type": "markdown",
      "id": "4eb8c518",
      "metadata": {
        "id": "4eb8c518"
      },
      "source": [
        "* **Deceptive function** (or **Trap** function) is another benchmark function for EA.\n",
        "* A trap-$k$ function is defined as follows.\n",
        "\n",
        "\\begin{equation*}\n",
        "\\text{trap}_k(u)=\n",
        "\\begin{cases}\n",
        "k & \\text{if} \\quad u = k \\\\\n",
        "k - 1 -u & \\text{if} \\quad u < k\n",
        "\\end{cases}\n",
        "\\end{equation*}"
      ]
    },
    {
      "cell_type": "markdown",
      "id": "9b924e0f",
      "metadata": {
        "id": "9b924e0f"
      },
      "source": [
        "![trap-4.png](attachment:trap-4.png)"
      ]
    },
    {
      "cell_type": "markdown",
      "id": "3de8a698",
      "metadata": {
        "id": "3de8a698"
      },
      "source": [
        "* We usually concatenate multiple $k$-bit trap functions to create the **Concatenated $k$-bit trap function**."
      ]
    },
    {
      "cell_type": "code",
      "execution_count": 71,
      "id": "5f4b9010",
      "metadata": {
        "colab": {
          "base_uri": "https://localhost:8080/"
        },
        "id": "5f4b9010",
        "outputId": "a3fe46d0-5be1-4ea3-ddc4-7aca10f4a695"
      },
      "outputs": [
        {
          "name": "stdout",
          "output_type": "stream",
          "text": [
            "(Ind: [1 1 0 1 1 0 1 1 0 1 1 0], -inf)\n"
          ]
        },
        {
          "data": {
            "text/plain": [
              "np.int64(1)"
            ]
          },
          "execution_count": 71,
          "metadata": {},
          "output_type": "execute_result"
        }
      ],
      "source": [
        "def trap_4_bit(num_ones):\n",
        "    if num_ones == 4:\n",
        "        return 4\n",
        "    return 4 - 1 - num_ones\n",
        "\n",
        "def concatenated_trap_4(ind: Individual):\n",
        "    f = 0\n",
        "    num_ones = 0\n",
        "    for i in range(0,len(ind.genes),4):\n",
        "        num_ones = sum(ind.genes[i:i+4])\n",
        "        f = f + trap_4_bit(num_ones)\n",
        "\n",
        "    return f\n",
        "ind = Individual(12)\n",
        "print(ind)\n",
        "concatenated_trap_4(ind)"
      ]
    },
    {
      "cell_type": "code",
      "execution_count": 72,
      "id": "8e633e93",
      "metadata": {
        "colab": {
          "base_uri": "https://localhost:8080/"
        },
        "id": "8e633e93",
        "outputId": "79442ac4-6789-4bc5-d6ce-821df71e8a4c"
      },
      "outputs": [
        {
          "name": "stderr",
          "output_type": "stream",
          "text": [
            "100%|██████████| 100000/100000 [00:04<00:00, 23686.49it/s]\n",
            "100%|██████████| 1000/1000 [00:03<00:00, 294.62it/s]\n",
            "100%|██████████| 100000/100000 [00:03<00:00, 26224.51it/s]\n",
            "100%|██████████| 1000/1000 [00:04<00:00, 239.83it/s]\n",
            "100%|██████████| 100000/100000 [00:03<00:00, 27622.39it/s]\n",
            "100%|██████████| 1000/1000 [00:03<00:00, 302.83it/s]\n",
            "100%|██████████| 100000/100000 [00:04<00:00, 24776.61it/s]\n",
            "100%|██████████| 1000/1000 [00:03<00:00, 321.34it/s]\n",
            "100%|██████████| 100000/100000 [00:04<00:00, 24638.37it/s]\n",
            "100%|██████████| 1000/1000 [00:03<00:00, 251.75it/s]\n",
            "100%|██████████| 100000/100000 [00:03<00:00, 26812.85it/s]\n",
            "100%|██████████| 1000/1000 [00:03<00:00, 312.34it/s]\n",
            "100%|██████████| 100000/100000 [00:04<00:00, 24182.87it/s]\n",
            "100%|██████████| 1000/1000 [00:03<00:00, 290.32it/s]\n",
            "100%|██████████| 100000/100000 [00:04<00:00, 24747.61it/s]\n",
            "100%|██████████| 1000/1000 [00:03<00:00, 272.94it/s]\n",
            "100%|██████████| 100000/100000 [00:03<00:00, 25361.20it/s]\n",
            "100%|██████████| 1000/1000 [00:03<00:00, 296.12it/s]\n",
            "100%|██████████| 100000/100000 [00:04<00:00, 24466.22it/s]\n",
            "100%|██████████| 1000/1000 [00:03<00:00, 277.39it/s]\n"
          ]
        }
      ],
      "source": [
        "n_trials = 10\n",
        "n = 20\n",
        "n_gens = 100000\n",
        "λ = 100\n",
        "\n",
        "fits_1 = np.zeros((n_gens, n_trials))\n",
        "fits_𝜆 = np.zeros((int(n_gens/𝜆), n_trials))\n",
        "\n",
        "for i in range(n_trials):\n",
        "    fits_1[:, i] = one_plus_one(n, n_gens, concatenated_trap_4)\n",
        "    fits_𝜆[:, i] = one_plus_lambda(n, int(n_gens/𝜆), concatenated_trap_4, 𝜆)"
      ]
    },
    {
      "cell_type": "code",
      "execution_count": 73,
      "id": "22dd63ed",
      "metadata": {
        "colab": {
          "base_uri": "https://localhost:8080/"
        },
        "id": "22dd63ed",
        "outputId": "bc23a5c5-dd97-4f33-d2fd-15c9f9efab56"
      },
      "outputs": [
        {
          "name": "stdout",
          "output_type": "stream",
          "text": [
            "(100000,) (100000,)\n",
            "(1000,) (1000,)\n"
          ]
        }
      ],
      "source": [
        "μ_1 = np.mean(fits_1, axis=1)\n",
        "σ_1 = np.std(fits_1, axis=1)\n",
        "μ_𝜆 = np.mean(fits_𝜆, axis=1)\n",
        "σ_𝜆 = np.std(fits_𝜆, axis=1)\n",
        "print(np.shape(μ_1), np.shape(σ_1))\n",
        "print(np.shape(μ_𝜆), np.shape(σ_𝜆))"
      ]
    },
    {
      "cell_type": "code",
      "execution_count": 74,
      "id": "351ad65b",
      "metadata": {
        "colab": {
          "base_uri": "https://localhost:8080/",
          "height": 472
        },
        "id": "351ad65b",
        "outputId": "da0f7f24-9682-46dc-aca8-e83e1ca59879"
      },
      "outputs": [
        {
          "data": {
            "image/png": "[encoded data removed]",
            "text/plain": [
              "<Figure size 640x480 with 1 Axes>"
            ]
          },
          "metadata": {},
          "output_type": "display_data"
        }
      ],
      "source": [
        "plt.plot(μ_1, label=\"1+1\", color='b')\n",
        "plt.fill_between(np.arange(0, n_gens), μ_1+σ_1, μ_1-σ_1, facecolor='b', alpha=0.1)\n",
        "plt.plot(np.arange(1,n_gens,𝜆), μ_𝜆, label=\"1+λ\", color='g')\n",
        "plt.fill_between(np.arange(0, n_gens, 𝜆), μ_𝜆+σ_𝜆, μ_𝜆-σ_𝜆, facecolor='b', alpha=0.1)\n",
        "plt.xlabel(\"Evaluations\")\n",
        "plt.ylabel(\"Fitness\")\n",
        "plt.title(f\"Trap-4 on {n} Dimensions\")\n",
        "plt.legend();"
      ]
    },
    {
      "cell_type": "markdown",
      "id": "44161430",
      "metadata": {
        "id": "44161430"
      },
      "source": [
        "# Algorithm control parameters\n",
        "\n",
        "* In practice, the choice of mutation rate $p$ and population size λ greatly influence experimental results.\n",
        "* We can also use **self-adjusting parameters**, which is similar to what simulated annealing uses.\n",
        "\n",
        "https://link.springer.com/article/10.1007/s00453-018-0502-x"
      ]
    },
    {
      "cell_type": "markdown",
      "id": "63966fef",
      "metadata": {
        "id": "63966fef"
      },
      "source": [
        "**Question**:\n",
        "\n",
        "* Investigave the effect of population size λ and mutation rate $p$ on (1+1)-EA and (1+λ)-EA.\n",
        "* Try implementing a dynamic mutation rate (e.g., a mutation rate that decreases over time) and compared it with the fixed mutation rate $p=\\frac{1}{n}$."
      ]
    }
  ],
  "metadata": {
    "celltoolbar": "Slideshow",
    "colab": {
      "provenance": []
    },
    "kernelspec": {
      "display_name": "Python 3 (ipykernel)",
      "language": "python",
      "name": "python3"
    },
    "language_info": {
      "codemirror_mode": {
        "name": "ipython",
        "version": 3
      },
      "file_extension": ".py",
      "mimetype": "text/x-python",
      "name": "python",
      "nbconvert_exporter": "python",
      "pygments_lexer": "ipython3",
      "version": "3.8.8"
    }
  },
  "nbformat": 4,
  "nbformat_minor": 5
}
